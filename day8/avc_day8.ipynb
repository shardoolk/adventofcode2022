{
 "cells": [
  {
   "cell_type": "code",
   "execution_count": 14,
   "metadata": {},
   "outputs": [],
   "source": [
    "tree_data = open(\"day_8_input.txt\").readlines()\n",
    "forest = [[int(x) for x in row.strip()] for row in tree_data]\n",
    "rows = len(forest)\n",
    "columns = len(forest[0])\n",
    "\n",
    "edges = 2*rows + 2*(columns-2) \n",
    "\n",
    "visible_trees = edges\n",
    "scores = []\n"
   ]
  },
  {
   "cell_type": "code",
   "execution_count": 15,
   "metadata": {},
   "outputs": [
    {
     "name": "stdout",
     "output_type": "stream",
     "text": [
      "Part 1 answer:  1794\n",
      "Part 2 soln:  199272\n"
     ]
    }
   ],
   "source": [
    "for row in range(1,rows-1):\n",
    "    for cols in range(1,columns-1):\n",
    "        tree = forest[row][cols]\n",
    "        \n",
    "        left = [forest[row][cols-i] for i in range(1,cols+1)]\n",
    "        right = [forest[row][cols+i] for i in range(1,columns-cols)]\n",
    "        top = [forest[row-i][cols] for i in range(1,row+1)]\n",
    "        down = [forest[row+i][cols] for i in range(1,rows-row)]\n",
    "        \n",
    "        #### Part 1\n",
    "        if max(left) < tree or max(right) < tree or max(top) < tree or max(down) < tree:\n",
    "            visible_trees +=1\n",
    "            \n",
    "             #### Part 2\n",
    "        score = 1\n",
    "        \n",
    "        for lst in (left,right,top,down):\n",
    "            tracker = 0\n",
    "            for i in range(len(lst)):\n",
    "                if lst[i] < tree:\n",
    "                    tracker += 1\n",
    "                elif lst[i] >= tree:\n",
    "                    tracker+= 1\n",
    "                    break\n",
    "                       \n",
    "            score *= tracker\n",
    "            scores.append(score)\n",
    "            \n",
    "            \n",
    "print(\"Part 1 answer: \", visible_trees)  \n",
    "\n",
    "print(\"Part 2 soln: \", max(scores))\n",
    "            \n",
    "               "
   ]
  },
  {
   "cell_type": "code",
   "execution_count": 9,
   "metadata": {},
   "outputs": [],
   "source": []
  },
  {
   "cell_type": "code",
   "execution_count": null,
   "metadata": {},
   "outputs": [],
   "source": []
  }
 ],
 "metadata": {
  "kernelspec": {
   "display_name": "base",
   "language": "python",
   "name": "python3"
  },
  "language_info": {
   "codemirror_mode": {
    "name": "ipython",
    "version": 3
   },
   "file_extension": ".py",
   "mimetype": "text/x-python",
   "name": "python",
   "nbconvert_exporter": "python",
   "pygments_lexer": "ipython3",
   "version": "3.9.12"
  },
  "orig_nbformat": 4
 },
 "nbformat": 4,
 "nbformat_minor": 2
}
